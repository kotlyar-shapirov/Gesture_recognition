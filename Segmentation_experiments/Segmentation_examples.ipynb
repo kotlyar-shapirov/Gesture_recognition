{
 "cells": [
  {
   "cell_type": "code",
   "execution_count": 1,
   "id": "ff7760b7",
   "metadata": {},
   "outputs": [],
   "source": [
    "import numpy as np\n",
    "import matplotlib.pyplot as plt"
   ]
  },
  {
   "cell_type": "code",
   "execution_count": 2,
   "id": "a3a86791",
   "metadata": {},
   "outputs": [],
   "source": [
    "from tssb.utils import load_time_series_segmentation_datasets\n",
    "from tssb.evaluation import covering"
   ]
  },
  {
   "cell_type": "code",
   "execution_count": 21,
   "id": "332148a3",
   "metadata": {},
   "outputs": [
    {
     "data": {
      "text/plain": [
       "(1, 4)"
      ]
     },
     "execution_count": 21,
     "metadata": {},
     "output_type": "execute_result"
    }
   ],
   "source": [
    "# loading datasets\n",
    "tssb = load_time_series_segmentation_datasets(names=['UWaveGestureLibraryY']) \n",
    "# names=[\"ArrowHead\", \"InsectWingbeatSound\", \"TwoLeadECG\"]\n",
    "tssb.shape"
   ]
  },
  {
   "cell_type": "code",
   "execution_count": 22,
   "id": "c5f4989a",
   "metadata": {},
   "outputs": [
    {
     "data": {
      "text/html": [
       "<div>\n",
       "<style scoped>\n",
       "    .dataframe tbody tr th:only-of-type {\n",
       "        vertical-align: middle;\n",
       "    }\n",
       "\n",
       "    .dataframe tbody tr th {\n",
       "        vertical-align: top;\n",
       "    }\n",
       "\n",
       "    .dataframe thead th {\n",
       "        text-align: right;\n",
       "    }\n",
       "</style>\n",
       "<table border=\"1\" class=\"dataframe\">\n",
       "  <thead>\n",
       "    <tr style=\"text-align: right;\">\n",
       "      <th></th>\n",
       "      <th>dataset</th>\n",
       "      <th>window_size</th>\n",
       "      <th>change_points</th>\n",
       "      <th>time_series</th>\n",
       "    </tr>\n",
       "  </thead>\n",
       "  <tbody>\n",
       "    <tr>\n",
       "      <th>0</th>\n",
       "      <td>UWaveGestureLibraryY</td>\n",
       "      <td>10</td>\n",
       "      <td>[600, 1131, 1652, 2193]</td>\n",
       "      <td>[-1.523467, -0.106794, 0.190361, 0.979247, 0.3...</td>\n",
       "    </tr>\n",
       "  </tbody>\n",
       "</table>\n",
       "</div>"
      ],
      "text/plain": [
       "                dataset  window_size            change_points  \\\n",
       "0  UWaveGestureLibraryY           10  [600, 1131, 1652, 2193]   \n",
       "\n",
       "                                         time_series  \n",
       "0  [-1.523467, -0.106794, 0.190361, 0.979247, 0.3...  "
      ]
     },
     "execution_count": 22,
     "metadata": {},
     "output_type": "execute_result"
    }
   ],
   "source": [
    "tssb.head(10)"
   ]
  },
  {
   "cell_type": "code",
   "execution_count": 23,
   "id": "e86e3711",
   "metadata": {},
   "outputs": [],
   "source": [
    "from CLaSP import CLaSP\n",
    "from copy import deepcopy"
   ]
  },
  {
   "cell_type": "code",
   "execution_count": 6,
   "id": "539d7891",
   "metadata": {},
   "outputs": [],
   "source": [
    "# for i in range(75):\n",
    "#     name = tssb.iloc[i,::]['dataset']\n",
    "#     wind_size = tssb.iloc[i,::]['window_size']\n",
    "#     true_chp = tssb.iloc[i,::]['change_points']      \n",
    "#     time_series = tssb.iloc[i,::]['time_series'] \n",
    "#     if time_series.shape[0] > 4500:\n",
    "#         continue\n",
    "#     print(name, ' ', len(time_series), ' ', len(true_chp))"
   ]
  },
  {
   "cell_type": "code",
   "execution_count": 24,
   "id": "d920ec89",
   "metadata": {},
   "outputs": [
    {
     "name": "stderr",
     "output_type": "stream",
     "text": [
      "100%|██████████████████████████████████████████████████████████████████████████████| 1403/1403 [03:15<00:00,  7.16it/s]\n",
      "100%|████████████████████████████████████████████████████████████████████████████████| 232/232 [00:02<00:00, 98.27it/s]\n",
      "100%|██████████████████████████████████████████████████████████████████████████████| 1165/1165 [01:55<00:00, 10.11it/s]\n",
      "100%|████████████████████████████████████████████████████████████████████████████████| 314/314 [00:04<00:00, 71.91it/s]\n",
      "100%|████████████████████████████████████████████████████████████████████████████████| 845/845 [00:49<00:00, 16.94it/s]\n",
      "100%|████████████████████████████████████████████████████████████████████████████████| 594/594 [00:18<00:00, 31.86it/s]\n",
      "100%|████████████████████████████████████████████████████████████████████████████████| 245/245 [00:02<00:00, 93.53it/s]"
     ]
    },
    {
     "name": "stdout",
     "output_type": "stream",
     "text": [
      "UWaveGestureLibraryY\n",
      "true:  [ 600 1131 1652 2193]\n",
      "pred:  [ 476 1116 1840 2316]\n",
      "====================================================================================================\n"
     ]
    },
    {
     "name": "stderr",
     "output_type": "stream",
     "text": [
      "\n"
     ]
    }
   ],
   "source": [
    "res_knn = {}\n",
    "for i in range(tssb.shape[0]):\n",
    "    name = tssb.iloc[i,::]['dataset']\n",
    "    wind_size = tssb.iloc[i,::]['window_size']\n",
    "    true_chp = tssb.iloc[i,::]['change_points']      \n",
    "    time_series = tssb.iloc[i,::]['time_series']  \n",
    "    if time_series.shape[0] > 4500:\n",
    "        continue\n",
    "    \n",
    "    cls = CLaSP(window=wind_size, solver='knn')\n",
    "    cls.fit(time_series[::2], n_segments=len(true_chp)+1)\n",
    "    \n",
    "    numbers = set()\n",
    "    for elem in cls.stack:\n",
    "        numbers.add(elem['start'])\n",
    "        numbers.add(elem['stop'])    \n",
    "    res_knn[name] = np.array(sorted(list(numbers))[1:-1])*2\n",
    "    print(name)\n",
    "    print('true: ',true_chp)\n",
    "    print('pred: ',np.array(sorted(list(numbers))[1:-1])*2)\n",
    "    print('='*100)"
   ]
  },
  {
   "cell_type": "code",
   "execution_count": 7,
   "id": "fce6af66",
   "metadata": {
    "scrolled": false
   },
   "outputs": [
    {
     "name": "stderr",
     "output_type": "stream",
     "text": [
      "100%|██████████████████████████████████████████████████████████████████████████████| 1353/1353 [03:01<00:00,  7.45it/s]\n",
      "100%|████████████████████████████████████████████████████████████████████████████████| 192/192 [00:05<00:00, 34.94it/s]\n",
      "100%|██████████████████████████████████████████████████████████████████████████████| 1155/1155 [02:40<00:00,  7.21it/s]\n",
      "100%|████████████████████████████████████████████████████████████████████████████████| 993/993 [01:51<00:00,  8.93it/s]\n",
      "100%|████████████████████████████████████████████████████████████████████████████████| 156/156 [00:01<00:00, 89.96it/s]\n",
      "100%|█████████████████████████████████████████████████████████████████████████████████| 98/98 [00:00<00:00, 248.12it/s]\n",
      "100%|████████████████████████████████████████████████████████████████████████████████| 889/889 [01:04<00:00, 13.74it/s]\n"
     ]
    },
    {
     "name": "stdout",
     "output_type": "stream",
     "text": [
      "CricketZ\n",
      "[ 600 1106 1574 2174]\n",
      "[ 396  604  628 2394]\n",
      "====================================================================================================\n"
     ]
    }
   ],
   "source": [
    "res_svd = {}\n",
    "for i in range(tssb.shape[0]):\n",
    "    name = tssb.iloc[i,::]['dataset']\n",
    "    wind_size = tssb.iloc[i,::]['window_size']\n",
    "    true_chp = tssb.iloc[i,::]['change_points']      \n",
    "    time_series = tssb.iloc[i,::]['time_series']  \n",
    "    if time_series.shape[0] > 4500:\n",
    "        continue\n",
    "    \n",
    "    cls = CLaSP(window=wind_size, solver='svd')\n",
    "    cls.fit(time_series[::2], n_segments=len(true_chp)+1)\n",
    "    \n",
    "    numbers = set()\n",
    "    for elem in cls.stack:\n",
    "        numbers.add(elem['start'])\n",
    "        numbers.add(elem['stop'])    \n",
    "    res_svd[name] = np.array(sorted(list(numbers))[1:-1])*2\n",
    "    print(name)\n",
    "    print(true_chp)\n",
    "    print(np.array(sorted(list(numbers))[1:-1])*2)\n",
    "    print('='*100)"
   ]
  },
  {
   "cell_type": "code",
   "execution_count": null,
   "id": "4ad71cf1",
   "metadata": {},
   "outputs": [],
   "source": [
    "# import pickle\n",
    "# with open('svd_scores.pickle', 'wb') as handle:\n",
    "#     pickle.dump(res_svd, handle, protocol=pickle.HIGHEST_PROTOCOL)"
   ]
  },
  {
   "cell_type": "code",
   "execution_count": 8,
   "id": "77feb702",
   "metadata": {},
   "outputs": [],
   "source": [
    "import pickle\n",
    "with open('knn_scores.pickle', 'rb') as handle:\n",
    "    res_knn = pickle.load(handle)"
   ]
  },
  {
   "cell_type": "code",
   "execution_count": 20,
   "id": "bbaecdb8",
   "metadata": {},
   "outputs": [
    {
     "name": "stdout",
     "output_type": "stream",
     "text": [
      "DistalPhalanxTW\n",
      "True: [ 580 2220]\n",
      "Pred: [262 584]\n",
      "====================\n",
      "SonyAIBORobotSurface1\n",
      "True: [420]\n",
      "Pred: [1046]\n",
      "====================\n",
      "UWaveGestureLibraryX\n",
      "True: [ 600 1131 1652 2193]\n",
      "Pred: [ 634 1126 2188 2510]\n",
      "====================\n",
      "UWaveGestureLibraryY\n",
      "True: [ 600 1131 1652 2193]\n",
      "Pred: [ 104  580 1150 2242]\n",
      "====================\n",
      "UWaveGestureLibraryY\n",
      "True: [ 600 1131 1652 2193]\n",
      "Pred: [ 104  580 1150 2242]\n",
      "====================\n",
      "UWaveGestureLibraryZ\n",
      "True: [ 600 1131 1652 2193]\n",
      "Pred: [ 626 1080 1122 2198]\n",
      "====================\n",
      "WordSynonyms\n",
      "True: [ 202 2227]\n",
      "Pred: [ 976 2188]\n",
      "====================\n"
     ]
    }
   ],
   "source": [
    "for key in res_knn.keys():\n",
    "    true_chp = tssb.loc[tssb['dataset'] == key]['change_points'].values[0]\n",
    "    pred_chp = res_knn[key]\n",
    "    for i in range(len(pred_chp)):\n",
    "        diff = np.abs(pred_chp[i] - true_chp[i])\n",
    "        if abs(diff) > 500:\n",
    "            print(key)\n",
    "            print('True:',true_chp)\n",
    "            print('Pred:',pred_chp)  \n",
    "            print('='*20)"
   ]
  },
  {
   "cell_type": "code",
   "execution_count": 15,
   "id": "7011c7cf",
   "metadata": {},
   "outputs": [
    {
     "data": {
      "text/plain": [
       "array([262, 584], dtype=int64)"
      ]
     },
     "execution_count": 15,
     "metadata": {},
     "output_type": "execute_result"
    }
   ],
   "source": [
    "res_knn['SonyAIBORobotSurface1']"
   ]
  },
  {
   "cell_type": "code",
   "execution_count": 19,
   "id": "199412dc",
   "metadata": {},
   "outputs": [
    {
     "data": {
      "text/plain": [
       "array([420])"
      ]
     },
     "execution_count": 19,
     "metadata": {},
     "output_type": "execute_result"
    }
   ],
   "source": [
    "tssb.loc[tssb['dataset'] == 'SonyAIBORobotSurface1']['change_points'].values[0]"
   ]
  },
  {
   "cell_type": "code",
   "execution_count": null,
   "id": "8057114c",
   "metadata": {},
   "outputs": [],
   "source": [
    "diff_list_svd = []\n",
    "for key in res_svd.keys():\n",
    "    true_chp = tssb.loc[tssb['dataset'] == key]['change_points'].values[0]\n",
    "    pred_chp = res_svd[key]\n",
    "    for i in range(len(pred_chp)):\n",
    "        diff = np.abs(pred_chp[i] - true_chp[i])\n",
    "        if abs(diff) < 500:\n",
    "            diff_list_svd.append(diff)"
   ]
  },
  {
   "cell_type": "code",
   "execution_count": null,
   "id": "85c1dae5",
   "metadata": {},
   "outputs": [],
   "source": [
    "diff_list_knn = []\n",
    "for key in res_knn.keys():\n",
    "    true_chp = tssb.loc[tssb['dataset'] == key]['change_points'].values[0]\n",
    "    pred_chp = res_knn[key]\n",
    "    for i in range(len(pred_chp)):\n",
    "        diff = np.abs(pred_chp[i] - true_chp[i])\n",
    "        if abs(diff) < 500:\n",
    "            diff_list_knn.append(diff)"
   ]
  },
  {
   "cell_type": "code",
   "execution_count": null,
   "id": "312575b8",
   "metadata": {},
   "outputs": [],
   "source": [
    "plt.hist(diff_list_svd, bins=20, alpha=0.5)\n",
    "plt.hist(diff_list_knn, bins=20, alpha=0.5)\n",
    "plt.show()"
   ]
  },
  {
   "cell_type": "code",
   "execution_count": null,
   "id": "c929784a",
   "metadata": {},
   "outputs": [],
   "source": [
    "fig, axs = plt.subplots(1,2, figsize=(6,4), sharey=True)\n",
    "axs[0].boxplot(diff_list_svd)\n",
    "axs[1].boxplot(diff_list_knn)\n",
    "\n",
    "axs[0].set_title('SVD')\n",
    "axs[1].set_title('KNN')\n",
    "plt.show()"
   ]
  },
  {
   "cell_type": "code",
   "execution_count": null,
   "id": "9f72c2e8",
   "metadata": {},
   "outputs": [],
   "source": [
    "line_ds = tssb.loc[tssb['dataset'] == 'InsectWingbeatSound']\n",
    "line_ts = line_ds['time_series'].values[0]\n",
    "line_chp = line_ds['change_points'].values[0]\n",
    "line_chp"
   ]
  },
  {
   "cell_type": "code",
   "execution_count": null,
   "id": "1c242694",
   "metadata": {},
   "outputs": [],
   "source": [
    "plt.figure(figsize=(8,3))\n",
    "cur_idx = 0\n",
    "for i in range(len(line_chp)):\n",
    "    plt.plot(np.arange(cur_idx,line_chp[i]), line_ts[cur_idx:line_chp[i]])\n",
    "    cur_idx = line_chp[i]\n",
    "plt.plot(np.arange(cur_idx,len(line_ts)-1), line_ts[cur_idx:len(line_ts)-1])\n",
    "plt.show()"
   ]
  },
  {
   "cell_type": "code",
   "execution_count": null,
   "id": "ea775238",
   "metadata": {},
   "outputs": [],
   "source": [
    "from CLaSP import CLaSP"
   ]
  },
  {
   "cell_type": "code",
   "execution_count": null,
   "id": "b4660e51",
   "metadata": {},
   "outputs": [],
   "source": [
    "cls = CLaSP(window=10, solver='knn')"
   ]
  },
  {
   "cell_type": "code",
   "execution_count": null,
   "id": "e6b4147e",
   "metadata": {},
   "outputs": [],
   "source": [
    "cls.fit(line_ts, n_segments=4)"
   ]
  },
  {
   "cell_type": "code",
   "execution_count": null,
   "id": "dbc2c7a9",
   "metadata": {},
   "outputs": [],
   "source": [
    "cls.stack"
   ]
  },
  {
   "cell_type": "code",
   "execution_count": null,
   "id": "3e610c5c",
   "metadata": {},
   "outputs": [],
   "source": [
    "numbers = set()\n",
    "for elem in cls.stack:\n",
    "    numbers.add(elem['start'])\n",
    "    numbers.add(elem['stop'])    "
   ]
  },
  {
   "cell_type": "code",
   "execution_count": null,
   "id": "3f9bd399",
   "metadata": {},
   "outputs": [],
   "source": [
    "numbers"
   ]
  },
  {
   "cell_type": "code",
   "execution_count": null,
   "id": "8df1ddaf",
   "metadata": {},
   "outputs": [],
   "source": [
    "plt.imshow(cls.X_dist, cmap='seismic')\n",
    "plt.show()"
   ]
  }
 ],
 "metadata": {
  "kernelspec": {
   "display_name": "Python 3",
   "language": "python",
   "name": "python3"
  },
  "language_info": {
   "codemirror_mode": {
    "name": "ipython",
    "version": 3
   },
   "file_extension": ".py",
   "mimetype": "text/x-python",
   "name": "python",
   "nbconvert_exporter": "python",
   "pygments_lexer": "ipython3",
   "version": "3.8.5"
  }
 },
 "nbformat": 4,
 "nbformat_minor": 5
}

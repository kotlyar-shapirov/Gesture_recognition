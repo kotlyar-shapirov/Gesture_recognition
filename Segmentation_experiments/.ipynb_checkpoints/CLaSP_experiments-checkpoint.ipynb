{
 "cells": [
  {
   "cell_type": "code",
   "execution_count": null,
   "id": "403068db",
   "metadata": {},
   "outputs": [],
   "source": [
    "import numpy as np\n",
    "import matplotlib.pyplot as plt\n",
    "import pandas as pd"
   ]
  },
  {
   "cell_type": "code",
   "execution_count": null,
   "id": "154a59b5",
   "metadata": {},
   "outputs": [],
   "source": [
    "# vec = df['count'].values[0:600]\n",
    "\n",
    "vec = np.sin(np.arange(250)/5)/20 #+ np.cos(np.arange(2000)/100)/10\n",
    "# vec[0:50] += np.random.randn(50)/20\n",
    "# vec[500:1000] += np.random.randn(500)/10\n",
    "vec[40:90] += np.arange(0,50)/50\n",
    "vec[90:150] += 50/50\n",
    "vec[150:200] += 50/50-np.arange(0,50)/50\n",
    "\n",
    "\n",
    "\n",
    "# first segment\n",
    "# vec = vec[41:]\n",
    "# thats it\n",
    "\n",
    "# diff segments - MUCH BETTER, MAKE SIGNAL STATIONARY!!!!\n",
    "vec = np.diff(vec)\n",
    "# vec = vec[:148]\n",
    "# vec = vec[:91]\n",
    "\n",
    "\n",
    "plt.figure(figsize=(14,3))\n",
    "plt.plot(vec)\n",
    "# plt.plot(np.diff(vec))\n",
    "plt.show()"
   ]
  },
  {
   "cell_type": "code",
   "execution_count": null,
   "id": "79b99d8e",
   "metadata": {},
   "outputs": [],
   "source": [
    "vec[0:20]"
   ]
  },
  {
   "cell_type": "code",
   "execution_count": null,
   "id": "6cd6dae2",
   "metadata": {},
   "outputs": [],
   "source": [
    "vvv = np.insert(vec, obj=0, values=vec[20//2:0:-1])\n",
    "www = np.insert(vvv, obj=-1, values=vec[-20//2:])\n",
    "www.shape"
   ]
  },
  {
   "cell_type": "code",
   "execution_count": null,
   "id": "78a4a385",
   "metadata": {},
   "outputs": [],
   "source": [
    "www.shape"
   ]
  },
  {
   "cell_type": "code",
   "execution_count": null,
   "id": "680ddfe5",
   "metadata": {},
   "outputs": [],
   "source": [
    "plt.plot(www)\n",
    "plt.show()"
   ]
  },
  {
   "cell_type": "code",
   "execution_count": null,
   "id": "af24e3e6",
   "metadata": {},
   "outputs": [],
   "source": [
    "from scipy.spatial import distance_matrix\n",
    "def create_X_and_X_dist_and_filtered(vec_ts, window):\n",
    "        # expand vec by window//2 to keep same dims\n",
    "        vec_left_expand = np.insert(vec_ts, obj=0, values=vec_ts[window//2:0:-1])\n",
    "        vec_both_expand = np.insert(vec_left_expand, obj=-1, values=vec_ts[-window//2:])\n",
    "        # matrix creation\n",
    "        X_list = []\n",
    "        j = 0\n",
    "        while j < vec_both_expand.shape[0]-window:\n",
    "            X_list.append(vec_both_expand[j:j+window])\n",
    "            j += 1\n",
    "        X = np.array(X_list)\n",
    "        print('X shape=', X.shape)\n",
    "        # distance matrix\n",
    "        X_dist = distance_matrix(X, X)\n",
    "        print('X_dist shape=', X_dist.shape)\n",
    "\n",
    "        # filter on the diagonal so close points wont be so close\n",
    "        col = np.zeros(X.shape[0])\n",
    "        row = np.zeros(X.shape[0])\n",
    "        col[0:window//2] = np.max(X_dist)*2\n",
    "        row[0:window//2] = np.max(X_dist)*2\n",
    "        filtr = toeplitz(col, row)\n",
    "        X_dist_filtered = X_dist + filtr\n",
    "        return X, X_dist, X_dist_filtered"
   ]
  },
  {
   "cell_type": "code",
   "execution_count": null,
   "id": "3d9bbfea",
   "metadata": {},
   "outputs": [],
   "source": [
    "X1, X_dist1, X_dist_filtered1 = create_X_and_X_dist_and_filtered(vec_ts=vec, window=5)\n",
    "X2, X_dist2, X_dist_filtered2 = create_X_and_X_dist_and_filtered(vec_ts=vec, window=10)\n",
    "X3, X_dist3, X_dist_filtered3 = create_X_and_X_dist_and_filtered(vec_ts=vec, window=15)"
   ]
  },
  {
   "cell_type": "code",
   "execution_count": null,
   "id": "ecf5730c",
   "metadata": {},
   "outputs": [],
   "source": [
    "plt.figure(figsize=(5,5))\n",
    "plt.imshow(X_dist1+ X_dist2 + X_dist3)\n",
    "plt.show()"
   ]
  },
  {
   "cell_type": "code",
   "execution_count": null,
   "id": "b3d006b1",
   "metadata": {},
   "outputs": [],
   "source": [
    "# a, b = 1000, 5\n",
    "# X = vec[0:a*b].reshape(a, b)\n",
    "plt.figure(figsize=(14,3))\n",
    "for i in range(20,30):\n",
    "    plt.plot(X[i])\n",
    "plt.show()"
   ]
  },
  {
   "cell_type": "code",
   "execution_count": null,
   "id": "43cbda07",
   "metadata": {},
   "outputs": [],
   "source": [
    "from sklearn.neighbors import KNeighborsClassifier\n",
    "from sklearn.linear_model import LogisticRegression\n",
    "\n",
    "from sklearn.model_selection import cross_val_score\n",
    "from sklearn.metrics import roc_auc_score, make_scorer\n",
    "\n",
    "from sklearn.preprocessing import StandardScaler\n",
    "from sklearn.decomposition import PCA\n",
    "\n",
    "from tqdm import tqdm"
   ]
  },
  {
   "cell_type": "markdown",
   "id": "53fcf222",
   "metadata": {},
   "source": [
    "# KNN with distance matrix (filtered)"
   ]
  },
  {
   "cell_type": "code",
   "execution_count": null,
   "id": "87854fab",
   "metadata": {},
   "outputs": [],
   "source": [
    "# faster KNN with pre-processed distances\n",
    "from scipy.spatial import distance_matrix\n",
    "\n",
    "X_dist = distance_matrix(X, X)\n",
    "X_dist.shape\n",
    "\n",
    "plt.figure(figsize=(3,3))\n",
    "plt.imshow(X_dist)\n",
    "plt.show()"
   ]
  },
  {
   "cell_type": "code",
   "execution_count": null,
   "id": "11254849",
   "metadata": {},
   "outputs": [],
   "source": [
    "from scipy.linalg import toeplitz\n",
    "from scipy.spatial import distance_matrix\n",
    "from sklearn.model_selection import StratifiedKFold\n",
    "\n",
    "def create_X_and_distance_filtered(vec_ts, window_size=10):\n",
    "    # train data creation\n",
    "    window = window_size\n",
    "    X_list = []\n",
    "    j = 0\n",
    "    while j < vec_ts.shape[0]-window:\n",
    "        X_list.append(vec_ts[j:j+window])\n",
    "        j += 1\n",
    "    X = np.array(X_list)\n",
    "    print('X shape=', X.shape)\n",
    "    \n",
    "    # distance matrix\n",
    "    X_dist = distance_matrix(X, X)\n",
    "    print('X_dist shape=', X_dist.shape)\n",
    "\n",
    "    # filter on the diagonal so close points wont be so close\n",
    "    col = np.zeros(X.shape[0])\n",
    "    row = np.zeros(X.shape[0])\n",
    "    col[0:window//2] = np.max(X_dist)*2\n",
    "    row[0:window//2] = np.max(X_dist)*2\n",
    "    filtr = toeplitz(col, row)\n",
    "\n",
    "    X_dist += filtr\n",
    "    \n",
    "    return X, X_dist"
   ]
  },
  {
   "cell_type": "code",
   "execution_count": null,
   "id": "f3c03617",
   "metadata": {},
   "outputs": [],
   "source": [
    "X, X_dist = create_X_and_distance_filtered(vec_ts=vec, window_size=10)\n",
    "plt.figure(figsize=(3,3))\n",
    "plt.imshow(X_dist)\n",
    "plt.show()"
   ]
  },
  {
   "cell_type": "code",
   "execution_count": null,
   "id": "3125ac97",
   "metadata": {},
   "outputs": [],
   "source": [
    "def clasp_cross_val(X_dist, y, n_neighbors=3, n_splits=3, shuffle=False):\n",
    "    scores = []\n",
    "    kf = StratifiedKFold(n_splits=3, shuffle=shuffle)\n",
    "    for i, (train_index, test_index) in enumerate(kf.split(np.arange(X_dist.shape[0]), y)):\n",
    "        # knn model init\n",
    "        knn = KNeighborsClassifier(n_neighbors=n_neighbors, metric='precomputed')\n",
    "\n",
    "        # selecting train dist matrix\n",
    "        X_train_single = X_dist[train_index]\n",
    "        X_train_double = X_train_single.T[train_index]\n",
    "        y_train = y[train_index]\n",
    "\n",
    "        # selecting test dist matrix\n",
    "        X_test_single = X_dist[test_index]\n",
    "        X_test_double = X_test_single.T[train_index].T\n",
    "        y_test = y[test_index]\n",
    "\n",
    "        # fitting model\n",
    "        knn.fit(X_train_double, y_train)\n",
    "\n",
    "        # testing model\n",
    "        y_pred = knn.predict(X_test_double)\n",
    "        score = roc_auc_score(y_test, y_pred)\n",
    "        scores.append(score)\n",
    "        \n",
    "    return scores"
   ]
  },
  {
   "cell_type": "code",
   "execution_count": null,
   "id": "e2fedec0",
   "metadata": {},
   "outputs": [],
   "source": [
    "# y index cycle\n",
    "def clasp_single_run(X_dist):\n",
    "    clasp = []\n",
    "    for i in tqdm(range(3,X_dist.shape[0]-3)):\n",
    "        y = np.ones(X_dist.shape[0])\n",
    "        y[0:i] = 0\n",
    "        scores = clasp_cross_val(X_dist, y, n_neighbors=3, n_splits=3, shuffle=True)\n",
    "\n",
    "        clasp.append(np.mean(scores))\n",
    "    return clasp"
   ]
  },
  {
   "cell_type": "code",
   "execution_count": null,
   "id": "64b15689",
   "metadata": {},
   "outputs": [],
   "source": [
    "X, X_dist = create_X_and_distance_filtered(vec_ts=www, window_size=10)\n",
    "# X_dist = X_dist[:489].T[:489]\n",
    "clasp = clasp_single_run(X_dist)"
   ]
  },
  {
   "cell_type": "code",
   "execution_count": null,
   "id": "4ad38273",
   "metadata": {},
   "outputs": [],
   "source": [
    "plt.figure(figsize=(6,3))\n",
    "plt.plot(vec)\n",
    "plt.show()\n",
    "\n",
    "plt.figure(figsize=(6,3))\n",
    "plt.plot(clasp)\n",
    "plt.show()"
   ]
  },
  {
   "cell_type": "markdown",
   "id": "e961da9a",
   "metadata": {},
   "source": [
    "### CLaSP with SVD rank=1 approximation"
   ]
  },
  {
   "cell_type": "code",
   "execution_count": null,
   "id": "8f554103",
   "metadata": {},
   "outputs": [],
   "source": [
    "# PCA cross-val\n",
    "from sklearn.decomposition import PCA\n",
    "def clasp_svd(X_dist, split_idx):\n",
    "    X_dist_left = X_dist[0:split_idx].T[0:split_idx]\n",
    "    X_dist_right = X_dist[split_idx:].T[split_idx:]   \n",
    "    \n",
    "    pca_left = PCA(n_components=1)\n",
    "    pca_left.fit(X_dist_left)\n",
    "    X_dist_left_pca = pca_left.inverse_transform(pca_left.transform(X_dist_left))\n",
    "    \n",
    "    pca_right = PCA(n_components=1)\n",
    "    pca_right.fit(X_dist_right)\n",
    "    X_dist_right_pca = pca_right.inverse_transform(pca_right.transform(X_dist_right))\n",
    "    \n",
    "    # no need to normalize since we summ the error of the both halves of matrix\n",
    "    score_left = np.linalg.norm(X_dist_left_pca - X_dist_left)#/np.linalg.norm(X_dist_left)\n",
    "    score_right = np.linalg.norm(X_dist_right_pca - X_dist_right)#/np.linalg.norm(X_dist_right)\n",
    "    return score_left + score_right"
   ]
  },
  {
   "cell_type": "code",
   "execution_count": null,
   "id": "3195b44a",
   "metadata": {},
   "outputs": [],
   "source": [
    "X_dist = distance_matrix(X, X)\n",
    "# X_dist = X_dist[85+130::].T[85+130::]"
   ]
  },
  {
   "cell_type": "code",
   "execution_count": null,
   "id": "902c42b6",
   "metadata": {},
   "outputs": [],
   "source": [
    "clasp_pca = []\n",
    "for i in tqdm(range(3,X_dist.shape[0]-3)):\n",
    "    score = clasp_svd(X_dist, split_idx=i)\n",
    "    clasp_pca.append(score)"
   ]
  },
  {
   "cell_type": "code",
   "execution_count": null,
   "id": "23de0347",
   "metadata": {},
   "outputs": [],
   "source": [
    "np.argmax(-np.array(clasp_pca[10:-10]))+10"
   ]
  },
  {
   "cell_type": "code",
   "execution_count": null,
   "id": "fff41594",
   "metadata": {},
   "outputs": [],
   "source": [
    "plt.figure(figsize=(6,3))\n",
    "plt.plot(vec)#[85+130:])\n",
    "plt.show()\n",
    "\n",
    "plt.figure(figsize=(6,3))\n",
    "plt.plot(-np.array(clasp_pca[10:-10]))\n",
    "# plt.plot(-50+10*np.diff(-np.array(clasp_pca[10:-10])))\n",
    "plt.show()"
   ]
  },
  {
   "cell_type": "markdown",
   "id": "088eb11b",
   "metadata": {},
   "source": [
    "# Final class with KNN and SVD solvers"
   ]
  },
  {
   "cell_type": "code",
   "execution_count": null,
   "id": "c153cd1a",
   "metadata": {},
   "outputs": [],
   "source": [
    "import numpy as np\n",
    "from collections import deque\n",
    "from tqdm import tqdm\n",
    "\n",
    "from scipy.linalg import toeplitz\n",
    "from scipy.spatial import distance_matrix\n",
    "\n",
    "from sklearn.model_selection import StratifiedKFold\n",
    "from sklearn.neighbors import KNeighborsClassifier\n",
    "from sklearn.decomposition import PCA\n",
    "from sklearn.model_selection import cross_val_score\n",
    "from sklearn.metrics import roc_auc_score, make_scorer\n",
    "\n",
    "# FUNCTIONAL CLASS\n",
    "class CLaSP():\n",
    "    def __init__(self, window=10, cycles=3, solver='knn'):\n",
    "        assert solver == 'knn' or solver == 'svd', 'Solver must be knn or svd'\n",
    "        assert window % 2 == 0 , 'Window must be even'\n",
    "        \n",
    "        self.window = window\n",
    "        self.cycles = cycles\n",
    "        self.solver = solver\n",
    "        self.stack = deque([])\n",
    "    \n",
    "    def fit(self, vec_ts, n_segments=3):\n",
    "        # create X_dist and X\n",
    "        self.create_X_and_distance_filtered(vec_ts)\n",
    "        \n",
    "        # initialize stack\n",
    "        first_elem = {'start':0,\n",
    "                      'stop':self.X_dist.shape[0],\n",
    "                      'clasp_scores':None,\n",
    "                      'clasp_max_idx':None,\n",
    "                      'clasp_max_val':None}\n",
    "        self.stack.append(first_elem)\n",
    "        \n",
    "        # while we don't have enough segments\n",
    "        while len(self.stack) < n_segments:\n",
    "            # calculate clasp on all elements\n",
    "            for i in range(len(self.stack)):\n",
    "                elem = self.stack.popleft()\n",
    "                if elem['clasp_max_idx'] is not None:\n",
    "                    self.stack.append(elem) # put it back\n",
    "                if elem['clasp_max_idx'] is None:\n",
    "                    # skip short segents\n",
    "                    if elem['stop'] - elem['start'] < self.window*3+1:\n",
    "                        elem['clasp_max_idx'] = -1\n",
    "                        elem['clasp_max_val'] = 0\n",
    "                        self.stack.append(elem)\n",
    "                        continue\n",
    "                    # selecting the slice and calculating clasp scores\n",
    "                    X_dist_cur = self.X_dist[elem['start']:elem['stop']].T[elem['start']:elem['stop']]\n",
    "                    print('X_dist_cur', X_dist_cur.shape)\n",
    "                    clasp_scores_cur = self.clasp_single_run(X_dist_cur)\n",
    "                    dividing_idx = np.argmax(clasp_scores_cur[self.window:-self.window]) + self.window\n",
    "                    dividing_val = clasp_scores_cur[dividing_idx]\n",
    "                    elem['clasp_max_idx'] = dividing_idx\n",
    "                    elem['clasp_max_val'] = dividing_val\n",
    "#                     elem['clasp_scores'] = clasp_scores_cur\n",
    "                    self.stack.append(elem) # put it back\n",
    "                \n",
    "            # comparison of computed CLASP vectors before splitting\n",
    "            max_val = 0\n",
    "            max_elem = None\n",
    "            max_idx = None\n",
    "            for i in range(len(self.stack)):\n",
    "                elem = self.stack[i]\n",
    "                if elem['clasp_max_val'] > max_val:\n",
    "                    max_val = elem['clasp_max_val']\n",
    "                    max_elem, max_idx = elem, i\n",
    "            print(max_idx)\n",
    "            # remove element from deque stack\n",
    "            del self.stack[max_idx]\n",
    "                \n",
    "            # creating and adding best element split to stack\n",
    "            left_elem = {'start':max_elem['start'],\n",
    "                         'stop':max_elem['start']+max_elem['clasp_max_idx'],\n",
    "                         'clasp_scores':None,\n",
    "                         'clasp_max_idx':None}\n",
    "            right_elem = {'start':max_elem['start']+max_elem['clasp_max_idx'],\n",
    "                         'stop':max_elem['stop'],\n",
    "                         'clasp_scores':None,\n",
    "                         'clasp_max_idx':None}\n",
    "            self.stack.append(left_elem)\n",
    "            self.stack.append(right_elem)\n",
    "                \n",
    "    # dataset creation\n",
    "    def create_X_and_distance_filtered(self, vec_ts):\n",
    "        # expand vec by window//2 to keep same dims\n",
    "        vec_left_expand = np.insert(vec_ts, obj=0, values=vec_ts[self.window//2:0:-1])\n",
    "        vec_both_expand = np.insert(vec_left_expand, obj=-1, values=vec_ts[-self.window//2:])\n",
    "        # matrix creation\n",
    "        X_list = []\n",
    "        j = 0\n",
    "        while j < vec_both_expand.shape[0]-self.window:\n",
    "            X_list.append(vec_both_expand[j:j+self.window])\n",
    "            j += 1\n",
    "        X = np.array(X_list)\n",
    "        print('X shape=', X.shape)\n",
    "        # distance matrix\n",
    "        X_dist = distance_matrix(X, X)\n",
    "        print('X_dist shape=', X_dist.shape)\n",
    "\n",
    "        # filter on the diagonal so close points wont be so close\n",
    "        col = np.zeros(X.shape[0])\n",
    "        row = np.zeros(X.shape[0])\n",
    "        col[0:self.window//2] = np.max(X_dist)*2\n",
    "        row[0:self.window//2] = np.max(X_dist)*2\n",
    "        filtr = toeplitz(col, row)\n",
    "        X_dist_filtered = X_dist + filtr\n",
    "        # writing to class attributes\n",
    "        self.X = X\n",
    "        if self.solver == 'knn':\n",
    "            self.X_dist = X_dist_filtered\n",
    "        elif self.solver == 'svd':\n",
    "            self.X_dist = X_dist\n",
    "        else:\n",
    "            pass\n",
    "    \n",
    "    # cross validation on single split of y\n",
    "    def clasp_cross_val(self, X_dist, y, n_neighbors=3, n_splits=3, shuffle=False):\n",
    "        scores = []\n",
    "        kf = StratifiedKFold(n_splits=3, shuffle=shuffle)\n",
    "        for i, (train_index, test_index) in enumerate(kf.split(np.arange(X_dist.shape[0]), y)):\n",
    "            # knn model init\n",
    "            knn = KNeighborsClassifier(n_neighbors=n_neighbors, metric='precomputed')\n",
    "            # selecting train dist matrix\n",
    "            X_train_double = X_dist[train_index].T[train_index]\n",
    "            y_train = y[train_index]\n",
    "            # selecting test dist matrix\n",
    "            X_test_double = X_dist[train_index].T[test_index]\n",
    "            y_test = y[test_index]\n",
    "            # fitting model\n",
    "            knn.fit(X_train_double, y_train)\n",
    "            # testing model\n",
    "            y_pred = knn.predict(X_test_double)\n",
    "            score = roc_auc_score(y_test, y_pred)\n",
    "            scores.append(score)\n",
    "        return scores\n",
    "    \n",
    "    # SVD cross-val\n",
    "    def clasp_svd(self, X_dist, split_idx):\n",
    "        X_dist_left = X_dist[0:split_idx].T[0:split_idx]\n",
    "        X_dist_right = X_dist[split_idx:].T[split_idx:]   \n",
    "\n",
    "        pca_left = PCA(n_components=1)\n",
    "        pca_left.fit(X_dist_left)\n",
    "        X_dist_left_pca = pca_left.inverse_transform(pca_left.transform(X_dist_left))\n",
    "\n",
    "        pca_right = PCA(n_components=1)\n",
    "        pca_right.fit(X_dist_right)\n",
    "        X_dist_right_pca = pca_right.inverse_transform(pca_right.transform(X_dist_right))\n",
    "\n",
    "        # no need to normalize since we summ the error of the both halves of matrix\n",
    "        score_left = np.linalg.norm(X_dist_left_pca - X_dist_left)/np.linalg.norm(X_dist_left)\n",
    "        score_right = np.linalg.norm(X_dist_right_pca - X_dist_right)/np.linalg.norm(X_dist_right)\n",
    "        return score_left + score_right\n",
    "    \n",
    "    # cycling over all y-splits\n",
    "    def clasp_single_run(self, X_dist):\n",
    "        clasp = []\n",
    "        for i in tqdm(range(3, X_dist.shape[0]-3)):\n",
    "            y = np.ones(X_dist.shape[0])\n",
    "            y[0:i] = 0\n",
    "            if self.solver == 'knn':\n",
    "                scores = self.clasp_cross_val(X_dist, y, n_neighbors=3, n_splits=3, shuffle=True)\n",
    "            elif self.solver == 'svd':\n",
    "                scores = self.clasp_svd(X_dist, i)\n",
    "            \n",
    "            clasp.append(np.mean(scores))\n",
    "        return clasp"
   ]
  },
  {
   "cell_type": "code",
   "execution_count": null,
   "id": "81d7f2f9",
   "metadata": {},
   "outputs": [],
   "source": [
    "cls = CLaSP(window=12, solver='svd')"
   ]
  },
  {
   "cell_type": "code",
   "execution_count": null,
   "id": "64483cc4",
   "metadata": {},
   "outputs": [],
   "source": [
    "cls.fit(vec, n_segments=5)"
   ]
  },
  {
   "cell_type": "code",
   "execution_count": null,
   "id": "9a199da5",
   "metadata": {},
   "outputs": [],
   "source": [
    "plt.imshow(cls.X_dist)\n",
    "plt.show()"
   ]
  },
  {
   "cell_type": "code",
   "execution_count": null,
   "id": "257eb09c",
   "metadata": {},
   "outputs": [],
   "source": [
    "len(cls.stack)"
   ]
  },
  {
   "cell_type": "code",
   "execution_count": null,
   "id": "3a9d7f2b",
   "metadata": {},
   "outputs": [],
   "source": [
    "# cls.stack"
   ]
  },
  {
   "cell_type": "code",
   "execution_count": null,
   "id": "2ab555cd",
   "metadata": {},
   "outputs": [],
   "source": [
    "plt.figure(figsize=(6,3))\n",
    "for i, elem in enumerate(cls.stack):\n",
    "    plt.plot(np.arange(elem['start'],elem['stop']),  vec[elem['start']:elem['stop']])\n",
    "plt.show()"
   ]
  },
  {
   "cell_type": "code",
   "execution_count": null,
   "id": "d2536811",
   "metadata": {},
   "outputs": [],
   "source": [
    "knn = KNeighborsClassifier(n_neighbors=3)\n",
    "%timeit knn.fit(X[train_index], y[train_index])"
   ]
  },
  {
   "cell_type": "code",
   "execution_count": null,
   "id": "7af3f52a",
   "metadata": {},
   "outputs": [],
   "source": [
    "knn = KNeighborsClassifier(n_neighbors=3, metric='precomputed')\n",
    "%timeit knn.fit(X_train_double, y[train_index])"
   ]
  },
  {
   "cell_type": "markdown",
   "id": "2e4c1815",
   "metadata": {},
   "source": [
    "### KNN with STFT"
   ]
  },
  {
   "cell_type": "code",
   "execution_count": null,
   "id": "06aacd73",
   "metadata": {},
   "outputs": [],
   "source": [
    "from scipy.signal import stft"
   ]
  },
  {
   "cell_type": "code",
   "execution_count": null,
   "id": "b5268290",
   "metadata": {},
   "outputs": [],
   "source": [
    "f, t, Zxx = stft(vec, fs=1, nperseg=32, noverlap=31)\n",
    "\n",
    "plt.pcolormesh(t, f, np.abs(Zxx), vmin=0, vmax=1, shading='gouraud')\n",
    "plt.title('STFT Magnitude')\n",
    "plt.ylabel('Frequency [Hz]')\n",
    "plt.xlabel('Time [sec]')\n",
    "plt.show()"
   ]
  },
  {
   "cell_type": "code",
   "execution_count": null,
   "id": "eeefaa10",
   "metadata": {},
   "outputs": [],
   "source": [
    "covariance = np.abs(np.cov(Zxx.T))\n",
    "plt.imshow(covariance)\n",
    "plt.show()"
   ]
  },
  {
   "cell_type": "code",
   "execution_count": null,
   "id": "f9d71f50",
   "metadata": {},
   "outputs": [],
   "source": [
    "clasp = []\n",
    "knn = KNeighborsClassifier(n_neighbors=5, weights='distance')\n",
    "logreg = LogisticRegression(random_state=0)\n",
    "\n",
    "# scaler = StandardScaler()\n",
    "# pca = PCA(n_components=3)\n",
    "# X = pca.fit_transform(X)\n",
    "# X = scaler.fit_transform(X)\n",
    "\n",
    "for i in tqdm(range(3,X.shape[0]-3)):\n",
    "    y = np.ones(X.shape[0])\n",
    "#     y = np.ones(Zxx.shape[1])\n",
    "    \n",
    "    y[0:i] = 0\n",
    "    \n",
    "#     scores = cross_val_score(knn, np.abs(Zxx.T), y, cv=3, scoring=make_scorer(roc_auc_score))\n",
    "    scores = cross_val_score(knn, X, y, cv=3, scoring=make_scorer(roc_auc_score))\n",
    "    \n",
    "    clasp.append(np.mean(scores))"
   ]
  },
  {
   "cell_type": "code",
   "execution_count": null,
   "id": "da4d6230",
   "metadata": {},
   "outputs": [],
   "source": [
    "plt.figure(figsize=(7,2))\n",
    "plt.plot(vec)\n",
    "# plt.plot(np.arange(0,500), vec[0:500])\n",
    "# plt.plot(np.arange(500,1000), vec[500:1000])\n",
    "# plt.plot(np.arange(1000,2000), vec[1000:2000])\n",
    "\n",
    "# plt.plot(np.arange(1000,1300), vec[1000:1300])\n",
    "# plt.plot(np.arange(1300,1600), vec[1300:1600])\n",
    "# plt.plot(np.arange(1600,2000), vec[1600:2000])\n",
    "plt.show()\n",
    "\n",
    "plt.figure(figsize=(7,2))\n",
    "plt.plot(np.array(clasp))\n",
    "plt.show()"
   ]
  },
  {
   "cell_type": "code",
   "execution_count": null,
   "id": "f268d553",
   "metadata": {},
   "outputs": [],
   "source": [
    "from claspy.segmentation import BinaryClaSPSegmentation"
   ]
  },
  {
   "cell_type": "code",
   "execution_count": null,
   "id": "4dc38545",
   "metadata": {},
   "outputs": [],
   "source": [
    "vec.shape"
   ]
  },
  {
   "cell_type": "code",
   "execution_count": null,
   "id": "473f3dec",
   "metadata": {},
   "outputs": [],
   "source": [
    "clasp = BinaryClaSPSegmentation(n_segments=4)\n",
    "clasp.fit(vec[0:50])"
   ]
  },
  {
   "cell_type": "code",
   "execution_count": null,
   "id": "af3c3c25",
   "metadata": {},
   "outputs": [],
   "source": [
    "from claspy.segmentation import BinaryClaSPSegmentation\n",
    "from claspy.data_loader import load_tssb_dataset"
   ]
  },
  {
   "cell_type": "code",
   "execution_count": null,
   "id": "7c26c29f",
   "metadata": {},
   "outputs": [],
   "source": [
    "dataset, window_size, true_cps, time_series = load_tssb_dataset(names=(\"CricketX\",)).iloc[0,:]\n",
    "clasp = BinaryClaSPSegmentation()\n",
    "clasp.fit_predict(time_series)"
   ]
  }
 ],
 "metadata": {
  "kernelspec": {
   "display_name": "Python 3",
   "language": "python",
   "name": "python3"
  },
  "language_info": {
   "codemirror_mode": {
    "name": "ipython",
    "version": 3
   },
   "file_extension": ".py",
   "mimetype": "text/x-python",
   "name": "python",
   "nbconvert_exporter": "python",
   "pygments_lexer": "ipython3",
   "version": "3.8.5"
  }
 },
 "nbformat": 4,
 "nbformat_minor": 5
}

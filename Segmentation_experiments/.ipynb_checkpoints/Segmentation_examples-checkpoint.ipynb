{
 "cells": [
  {
   "cell_type": "code",
   "execution_count": 1,
   "id": "09aa2cd3",
   "metadata": {},
   "outputs": [],
   "source": [
    "import numpy as np\n",
    "import matplotlib.pyplot as plt"
   ]
  },
  {
   "cell_type": "code",
   "execution_count": 2,
   "id": "41b5d61a",
   "metadata": {},
   "outputs": [],
   "source": [
    "from tssb.utils import load_time_series_segmentation_datasets\n",
    "from tssb.evaluation import covering"
   ]
  },
  {
   "cell_type": "code",
   "execution_count": 3,
   "id": "db264411",
   "metadata": {},
   "outputs": [
    {
     "data": {
      "text/plain": [
       "(75, 4)"
      ]
     },
     "execution_count": 3,
     "metadata": {},
     "output_type": "execute_result"
    }
   ],
   "source": [
    "# loading datasets\n",
    "tssb = load_time_series_segmentation_datasets() \n",
    "# names=[\"ArrowHead\", \"InsectWingbeatSound\", \"TwoLeadECG\"]\n",
    "tssb.shape"
   ]
  },
  {
   "cell_type": "code",
   "execution_count": 4,
   "id": "5a1d1d53",
   "metadata": {},
   "outputs": [
    {
     "data": {
      "text/html": [
       "<div>\n",
       "<style scoped>\n",
       "    .dataframe tbody tr th:only-of-type {\n",
       "        vertical-align: middle;\n",
       "    }\n",
       "\n",
       "    .dataframe tbody tr th {\n",
       "        vertical-align: top;\n",
       "    }\n",
       "\n",
       "    .dataframe thead th {\n",
       "        text-align: right;\n",
       "    }\n",
       "</style>\n",
       "<table border=\"1\" class=\"dataframe\">\n",
       "  <thead>\n",
       "    <tr style=\"text-align: right;\">\n",
       "      <th></th>\n",
       "      <th>dataset</th>\n",
       "      <th>window_size</th>\n",
       "      <th>change_points</th>\n",
       "      <th>time_series</th>\n",
       "    </tr>\n",
       "  </thead>\n",
       "  <tbody>\n",
       "    <tr>\n",
       "      <th>0</th>\n",
       "      <td>Adiac</td>\n",
       "      <td>10</td>\n",
       "      <td>[572, 1012, 1232]</td>\n",
       "      <td>[1.681146, 1.383394, 1.029389, 0.688386, 0.354...</td>\n",
       "    </tr>\n",
       "    <tr>\n",
       "      <th>1</th>\n",
       "      <td>ArrowHead</td>\n",
       "      <td>10</td>\n",
       "      <td>[753]</td>\n",
       "      <td>[-1.957721, -1.858082, -1.657983, -1.420794, -...</td>\n",
       "    </tr>\n",
       "    <tr>\n",
       "      <th>2</th>\n",
       "      <td>Beef</td>\n",
       "      <td>50</td>\n",
       "      <td>[705]</td>\n",
       "      <td>[-0.380818, -0.352238, -0.295392, -0.225041, -...</td>\n",
       "    </tr>\n",
       "    <tr>\n",
       "      <th>3</th>\n",
       "      <td>BeetleFly</td>\n",
       "      <td>10</td>\n",
       "      <td>[1280]</td>\n",
       "      <td>[1.114805, 0.774403, 0.477129, 0.115781, -0.24...</td>\n",
       "    </tr>\n",
       "    <tr>\n",
       "      <th>4</th>\n",
       "      <td>BirdChicken</td>\n",
       "      <td>20</td>\n",
       "      <td>[1280]</td>\n",
       "      <td>[1.697714, 1.439032, 1.22287, 0.99708, 0.76479...</td>\n",
       "    </tr>\n",
       "    <tr>\n",
       "      <th>5</th>\n",
       "      <td>Car</td>\n",
       "      <td>20</td>\n",
       "      <td>[577, 1154, 1550]</td>\n",
       "      <td>[1.451648, 1.030174, 0.531853, 0.040229, -0.40...</td>\n",
       "    </tr>\n",
       "    <tr>\n",
       "      <th>6</th>\n",
       "      <td>CBF</td>\n",
       "      <td>20</td>\n",
       "      <td>[384, 704]</td>\n",
       "      <td>[-1.27713, -0.689811, -0.901181, -0.937038, -0...</td>\n",
       "    </tr>\n",
       "    <tr>\n",
       "      <th>7</th>\n",
       "      <td>Chinatown</td>\n",
       "      <td>10</td>\n",
       "      <td>[]</td>\n",
       "      <td>[0.025935, -0.435655, -0.608168, -0.81565, -1....</td>\n",
       "    </tr>\n",
       "    <tr>\n",
       "      <th>8</th>\n",
       "      <td>ChlorineConcentration</td>\n",
       "      <td>10</td>\n",
       "      <td>[2365]</td>\n",
       "      <td>[2.496227, 1.046743, 0.391124, 0.607525, -0.22...</td>\n",
       "    </tr>\n",
       "    <tr>\n",
       "      <th>9</th>\n",
       "      <td>CinCECGTorso</td>\n",
       "      <td>10</td>\n",
       "      <td>[2663, 5121]</td>\n",
       "      <td>[-0.118215, -0.115326, -0.111855, -0.1229, -0....</td>\n",
       "    </tr>\n",
       "  </tbody>\n",
       "</table>\n",
       "</div>"
      ],
      "text/plain": [
       "                 dataset  window_size      change_points  \\\n",
       "0                  Adiac           10  [572, 1012, 1232]   \n",
       "1              ArrowHead           10              [753]   \n",
       "2                   Beef           50              [705]   \n",
       "3              BeetleFly           10             [1280]   \n",
       "4            BirdChicken           20             [1280]   \n",
       "5                    Car           20  [577, 1154, 1550]   \n",
       "6                    CBF           20         [384, 704]   \n",
       "7              Chinatown           10                 []   \n",
       "8  ChlorineConcentration           10             [2365]   \n",
       "9           CinCECGTorso           10       [2663, 5121]   \n",
       "\n",
       "                                         time_series  \n",
       "0  [1.681146, 1.383394, 1.029389, 0.688386, 0.354...  \n",
       "1  [-1.957721, -1.858082, -1.657983, -1.420794, -...  \n",
       "2  [-0.380818, -0.352238, -0.295392, -0.225041, -...  \n",
       "3  [1.114805, 0.774403, 0.477129, 0.115781, -0.24...  \n",
       "4  [1.697714, 1.439032, 1.22287, 0.99708, 0.76479...  \n",
       "5  [1.451648, 1.030174, 0.531853, 0.040229, -0.40...  \n",
       "6  [-1.27713, -0.689811, -0.901181, -0.937038, -0...  \n",
       "7  [0.025935, -0.435655, -0.608168, -0.81565, -1....  \n",
       "8  [2.496227, 1.046743, 0.391124, 0.607525, -0.22...  \n",
       "9  [-0.118215, -0.115326, -0.111855, -0.1229, -0....  "
      ]
     },
     "execution_count": 4,
     "metadata": {},
     "output_type": "execute_result"
    }
   ],
   "source": [
    "tssb.head(10)"
   ]
  },
  {
   "cell_type": "code",
   "execution_count": 5,
   "id": "5b632854",
   "metadata": {},
   "outputs": [],
   "source": [
    "from CLaSP import CLaSP\n",
    "from copy import deepcopy"
   ]
  },
  {
   "cell_type": "code",
   "execution_count": 6,
   "id": "147eb732",
   "metadata": {},
   "outputs": [],
   "source": [
    "# for i in range(75):\n",
    "#     name = tssb.iloc[i,::]['dataset']\n",
    "#     wind_size = tssb.iloc[i,::]['window_size']\n",
    "#     true_chp = tssb.iloc[i,::]['change_points']      \n",
    "#     time_series = tssb.iloc[i,::]['time_series'] \n",
    "#     if time_series.shape[0] > 4500:\n",
    "#         continue\n",
    "#     print(name, ' ', len(time_series), ' ', len(true_chp))"
   ]
  },
  {
   "cell_type": "code",
   "execution_count": 7,
   "id": "f3c3db35",
   "metadata": {},
   "outputs": [
    {
     "name": "stderr",
     "output_type": "stream",
     "text": [
      "100%|████████████████████████████████████████████████████████████████████████████████| 698/698 [00:27<00:00, 25.25it/s]\n",
      "100%|████████████████████████████████████████████████████████████████████████████████| 277/277 [00:03<00:00, 79.00it/s]\n",
      "100%|████████████████████████████████████████████████████████████████████████████████| 415/415 [00:07<00:00, 56.54it/s]\n",
      "100%|███████████████████████████████████████████████████████████████████████████████| 191/191 [00:01<00:00, 106.49it/s]\n",
      "100%|████████████████████████████████████████████████████████████████████████████████| 218/218 [00:02<00:00, 96.29it/s]\n"
     ]
    },
    {
     "name": "stdout",
     "output_type": "stream",
     "text": [
      "Adiac\n",
      "true:  [ 572 1012 1232]\n",
      "pred:  [ 566  960 1192]\n",
      "====================================================================================================\n"
     ]
    },
    {
     "name": "stderr",
     "output_type": "stream",
     "text": [
      "100%|████████████████████████████████████████████████████████████████████████████████| 747/747 [00:34<00:00, 21.46it/s]\n"
     ]
    },
    {
     "name": "stdout",
     "output_type": "stream",
     "text": [
      "ArrowHead\n",
      "true:  [753]\n",
      "pred:  [754]\n",
      "====================================================================================================\n"
     ]
    },
    {
     "name": "stderr",
     "output_type": "stream",
     "text": [
      "100%|████████████████████████████████████████████████████████████████████████████████| 699/699 [00:29<00:00, 23.50it/s]\n"
     ]
    },
    {
     "name": "stdout",
     "output_type": "stream",
     "text": [
      "Beef\n",
      "true:  [705]\n",
      "pred:  [646]\n",
      "====================================================================================================\n"
     ]
    },
    {
     "name": "stderr",
     "output_type": "stream",
     "text": [
      "100%|██████████████████████████████████████████████████████████████████████████████| 1274/1274 [02:28<00:00,  8.58it/s]\n"
     ]
    },
    {
     "name": "stdout",
     "output_type": "stream",
     "text": [
      "BeetleFly\n",
      "true:  [1280]\n",
      "pred:  [1262]\n",
      "====================================================================================================\n"
     ]
    },
    {
     "name": "stderr",
     "output_type": "stream",
     "text": [
      "100%|██████████████████████████████████████████████████████████████████████████████| 1274/1274 [02:28<00:00,  8.59it/s]\n"
     ]
    },
    {
     "name": "stdout",
     "output_type": "stream",
     "text": [
      "BirdChicken\n",
      "true:  [1280]\n",
      "pred:  [1290]\n",
      "====================================================================================================\n"
     ]
    },
    {
     "name": "stderr",
     "output_type": "stream",
     "text": [
      "100%|██████████████████████████████████████████████████████████████████████████████| 1076/1076 [01:30<00:00, 11.88it/s]\n",
      "100%|████████████████████████████████████████████████████████████████████████████████| 275/275 [00:03<00:00, 85.83it/s]\n",
      "100%|████████████████████████████████████████████████████████████████████████████████| 795/795 [00:39<00:00, 20.34it/s]\n",
      "100%|████████████████████████████████████████████████████████████████████████████████| 263/263 [00:03<00:00, 86.65it/s]\n",
      "100%|████████████████████████████████████████████████████████████████████████████████| 526/526 [00:13<00:00, 39.09it/s]\n"
     ]
    },
    {
     "name": "stdout",
     "output_type": "stream",
     "text": [
      "Car\n",
      "true:  [ 577 1154 1550]\n",
      "pred:  [ 562 1100 1490]\n",
      "====================================================================================================\n"
     ]
    },
    {
     "name": "stderr",
     "output_type": "stream",
     "text": [
      "100%|████████████████████████████████████████████████████████████████████████████████| 474/474 [00:10<00:00, 45.96it/s]\n",
      "100%|████████████████████████████████████████████████████████████████████████████████| 343/343 [00:05<00:00, 68.22it/s]\n",
      "100%|███████████████████████████████████████████████████████████████████████████████| 125/125 [00:00<00:00, 132.74it/s]\n"
     ]
    },
    {
     "name": "stdout",
     "output_type": "stream",
     "text": [
      "CBF\n",
      "true:  [384 704]\n",
      "pred:  [386 698]\n",
      "====================================================================================================\n",
      "Chinatown\n",
      "true:  []\n",
      "pred:  []\n",
      "====================================================================================================\n"
     ]
    },
    {
     "name": "stderr",
     "output_type": "stream",
     "text": [
      "100%|████████████████████████████████████████████████████████████████████████████████| 494/494 [00:11<00:00, 43.13it/s]\n"
     ]
    },
    {
     "name": "stdout",
     "output_type": "stream",
     "text": [
      "Coffee\n",
      "true:  [500]\n",
      "pred:  [550]\n",
      "====================================================================================================\n"
     ]
    },
    {
     "name": "stderr",
     "output_type": "stream",
     "text": [
      "100%|██████████████████████████████████████████████████████████████████████████████| 1540/1540 [04:22<00:00,  5.87it/s]\n",
      "100%|██████████████████████████████████████████████████████████████████████████████| 1287/1287 [02:30<00:00,  8.58it/s]\n",
      "100%|████████████████████████████████████████████████████████████████████████████████| 247/247 [00:02<00:00, 92.88it/s]\n",
      "100%|████████████████████████████████████████████████████████████████████████████████| 640/640 [00:21<00:00, 29.31it/s]\n",
      "100%|████████████████████████████████████████████████████████████████████████████████| 641/641 [00:22<00:00, 28.61it/s]\n",
      "100%|████████████████████████████████████████████████████████████████████████████████| 354/354 [00:05<00:00, 65.27it/s]\n",
      "100%|████████████████████████████████████████████████████████████████████████████████| 280/280 [00:03<00:00, 82.05it/s]\n"
     ]
    },
    {
     "name": "stdout",
     "output_type": "stream",
     "text": [
      "CricketX\n",
      "true:  [ 712 1293 1930 2586]\n",
      "pred:  [ 720 1292 1954 2586]\n",
      "====================================================================================================\n"
     ]
    },
    {
     "name": "stderr",
     "output_type": "stream",
     "text": [
      "100%|██████████████████████████████████████████████████████████████████████████████| 1531/1531 [04:25<00:00,  5.76it/s]\n",
      "100%|████████████████████████████████████████████████████████████████████████████████| 908/908 [01:00<00:00, 15.05it/s]\n",
      "100%|████████████████████████████████████████████████████████████████████████████████| 617/617 [00:21<00:00, 28.72it/s]\n",
      "100%|████████████████████████████████████████████████████████████████████████████████| 274/274 [00:03<00:00, 84.47it/s]\n",
      "100%|████████████████████████████████████████████████████████████████████████████████| 337/337 [00:04<00:00, 67.91it/s]\n",
      "100%|████████████████████████████████████████████████████████████████████████████████| 250/250 [00:02<00:00, 88.32it/s]\n",
      "100%|████████████████████████████████████████████████████████████████████████████████| 652/652 [00:24<00:00, 26.64it/s]\n"
     ]
    },
    {
     "name": "stdout",
     "output_type": "stream",
     "text": [
      "CricketY\n",
      "true:  [ 525 1162 1837 2399]\n",
      "pred:  [ 512 1146 1828 2388]\n",
      "====================================================================================================\n"
     ]
    },
    {
     "name": "stderr",
     "output_type": "stream",
     "text": [
      "100%|██████████████████████████████████████████████████████████████████████████████| 1353/1353 [02:50<00:00,  7.94it/s]\n",
      "100%|██████████████████████████████████████████████████████████████████████████████| 1084/1084 [01:34<00:00, 11.45it/s]\n",
      "100%|████████████████████████████████████████████████████████████████████████████████| 263/263 [00:03<00:00, 87.63it/s]\n",
      "100%|████████████████████████████████████████████████████████████████████████████████| 512/512 [00:13<00:00, 38.04it/s]\n",
      "100%|████████████████████████████████████████████████████████████████████████████████| 566/566 [00:16<00:00, 33.96it/s]\n",
      "100%|████████████████████████████████████████████████████████████████████████████████| 301/301 [00:04<00:00, 74.37it/s]\n",
      "100%|███████████████████████████████████████████████████████████████████████████████| 205/205 [00:02<00:00, 101.62it/s]\n"
     ]
    },
    {
     "name": "stdout",
     "output_type": "stream",
     "text": [
      "CricketZ\n",
      "true:  [ 600 1106 1574 2174]\n",
      "pred:  [ 614 1036 1596 2180]\n",
      "====================================================================================================\n"
     ]
    },
    {
     "name": "stderr",
     "output_type": "stream",
     "text": [
      "100%|████████████████████████████████████████████████████████████████████████████████| 641/641 [00:23<00:00, 27.76it/s]\n",
      "100%|████████████████████████████████████████████████████████████████████████████████| 261/261 [00:03<00:00, 84.95it/s]\n",
      "100%|████████████████████████████████████████████████████████████████████████████████| 374/374 [00:06<00:00, 61.50it/s]\n"
     ]
    },
    {
     "name": "stdout",
     "output_type": "stream",
     "text": [
      "DiatomSizeReduction\n",
      "true:  [517 948]\n",
      "pred:  [534 952]\n",
      "====================================================================================================\n"
     ]
    },
    {
     "name": "stderr",
     "output_type": "stream",
     "text": [
      "100%|████████████████████████████████████████████████████████████████████████████████| 709/709 [00:29<00:00, 23.82it/s]\n"
     ]
    },
    {
     "name": "stdout",
     "output_type": "stream",
     "text": [
      "DistalPhalanxOutlineAgeGroup\n",
      "true:  [300]\n",
      "pred:  [270]\n",
      "====================================================================================================\n"
     ]
    },
    {
     "name": "stderr",
     "output_type": "stream",
     "text": [
      "100%|██████████████████████████████████████████████████████████████████████████████| 1284/1284 [02:21<00:00,  9.05it/s]\n",
      "100%|████████████████████████████████████████████████████████████████████████████████| 274/274 [00:03<00:00, 84.61it/s]\n",
      "100%|██████████████████████████████████████████████████████████████████████████████| 1004/1004 [01:13<00:00, 13.73it/s]\n"
     ]
    },
    {
     "name": "stdout",
     "output_type": "stream",
     "text": [
      "DistalPhalanxTW\n",
      "true:  [ 580 2220]\n",
      "pred:  [250 560]\n",
      "====================================================================================================\n",
      "DodgerLoopDay\n",
      "true:  []\n",
      "pred:  []\n",
      "====================================================================================================\n"
     ]
    },
    {
     "name": "stderr",
     "output_type": "stream",
     "text": [
      "100%|██████████████████████████████████████████████████████████████████████████████| 1194/1194 [01:50<00:00, 10.78it/s]\n"
     ]
    },
    {
     "name": "stdout",
     "output_type": "stream",
     "text": [
      "ECG200\n",
      "true:  [744]\n",
      "pred:  [714]\n",
      "====================================================================================================\n"
     ]
    },
    {
     "name": "stderr",
     "output_type": "stream",
     "text": [
      "100%|████████████████████████████████████████████████████████████████████████████████| 385/385 [00:06<00:00, 59.32it/s]\n"
     ]
    },
    {
     "name": "stdout",
     "output_type": "stream",
     "text": [
      "ECGFiveDays\n",
      "true:  [476]\n",
      "pred:  [182]\n",
      "====================================================================================================\n"
     ]
    },
    {
     "name": "stderr",
     "output_type": "stream",
     "text": [
      "100%|████████████████████████████████████████████████████████████████████████████████| 932/932 [01:00<00:00, 15.47it/s]\n"
     ]
    },
    {
     "name": "stdout",
     "output_type": "stream",
     "text": [
      "GunPoint\n",
      "true:  [900]\n",
      "pred:  [826]\n",
      "====================================================================================================\n"
     ]
    },
    {
     "name": "stderr",
     "output_type": "stream",
     "text": [
      "100%|████████████████████████████████████████████████████████████████████████████████| 634/634 [00:22<00:00, 28.59it/s]\n",
      "100%|████████████████████████████████████████████████████████████████████████████████| 472/472 [00:11<00:00, 41.62it/s]\n",
      "100%|███████████████████████████████████████████████████████████████████████████████| 156/156 [00:01<00:00, 116.91it/s]\n",
      "100%|████████████████████████████████████████████████████████████████████████████████| 315/315 [00:04<00:00, 71.55it/s]\n",
      "100%|███████████████████████████████████████████████████████████████████████████████| 151/151 [00:01<00:00, 115.75it/s]\n"
     ]
    },
    {
     "name": "stdout",
     "output_type": "stream",
     "text": [
      "InsectWingbeatSound\n",
      "true:  [320 640 960]\n",
      "pred:  [328 642 956]\n",
      "====================================================================================================\n"
     ]
    },
    {
     "name": "stderr",
     "output_type": "stream",
     "text": [
      "100%|████████████████████████████████████████████████████████████████████████████████| 798/798 [00:37<00:00, 21.18it/s]\n"
     ]
    },
    {
     "name": "stdout",
     "output_type": "stream",
     "text": [
      "ItalyPowerDemand\n",
      "true:  [816]\n",
      "pred:  [792]\n",
      "====================================================================================================\n"
     ]
    },
    {
     "name": "stderr",
     "output_type": "stream",
     "text": [
      "100%|████████████████████████████████████████████████████████████████████████████████| 591/591 [00:19<00:00, 30.67it/s]\n"
     ]
    },
    {
     "name": "stdout",
     "output_type": "stream",
     "text": [
      "Lightning2\n",
      "true:  [398]\n",
      "pred:  [364]\n",
      "====================================================================================================\n"
     ]
    },
    {
     "name": "stderr",
     "output_type": "stream",
     "text": [
      "100%|██████████████████████████████████████████████████████████████████████████████| 1978/1978 [10:06<00:00,  3.26it/s]\n",
      "100%|██████████████████████████████████████████████████████████████████████████████| 1268/1268 [02:18<00:00,  9.13it/s]\n",
      "100%|████████████████████████████████████████████████████████████████████████████████| 704/704 [00:27<00:00, 25.15it/s]\n",
      "100%|████████████████████████████████████████████████████████████████████████████████| 877/877 [00:53<00:00, 16.51it/s]\n",
      "100%|████████████████████████████████████████████████████████████████████████████████| 385/385 [00:07<00:00, 53.92it/s]\n"
     ]
    },
    {
     "name": "stdout",
     "output_type": "stream",
     "text": [
      "Mallat\n",
      "true:  [ 768 1792 2560]\n",
      "pred:  [ 776 1766 2548]\n",
      "====================================================================================================\n"
     ]
    },
    {
     "name": "stderr",
     "output_type": "stream",
     "text": [
      "100%|██████████████████████████████████████████████████████████████████████████████| 1674/1674 [05:42<00:00,  4.89it/s]\n",
      "100%|██████████████████████████████████████████████████████████████████████████████| 1121/1121 [01:37<00:00, 11.56it/s]\n",
      "100%|████████████████████████████████████████████████████████████████████████████████| 547/547 [00:15<00:00, 35.55it/s]\n"
     ]
    },
    {
     "name": "stdout",
     "output_type": "stream",
     "text": [
      "Meat\n",
      "true:  [1120 2240]\n",
      "pred:  [1118 2254]\n",
      "====================================================================================================\n"
     ]
    },
    {
     "name": "stderr",
     "output_type": "stream",
     "text": [
      "100%|██████████████████████████████████████████████████████████████████████████████| 1231/1231 [02:15<00:00,  9.08it/s]\n"
     ]
    },
    {
     "name": "stdout",
     "output_type": "stream",
     "text": [
      "MedicalImages\n",
      "true:  [1732]\n",
      "pred:  [1736]\n",
      "====================================================================================================\n"
     ]
    },
    {
     "name": "stderr",
     "output_type": "stream",
     "text": [
      "100%|████████████████████████████████████████████████████████████████████████████████| 834/834 [00:40<00:00, 20.36it/s]\n"
     ]
    },
    {
     "name": "stdout",
     "output_type": "stream",
     "text": [
      "MoteStrain\n",
      "true:  [840]\n",
      "pred:  [938]\n",
      "====================================================================================================\n"
     ]
    },
    {
     "name": "stderr",
     "output_type": "stream",
     "text": [
      "100%|██████████████████████████████████████████████████████████████████████████████| 1034/1034 [01:14<00:00, 13.95it/s]\n",
      "100%|████████████████████████████████████████████████████████████████████████████████| 444/444 [00:09<00:00, 46.84it/s]\n",
      "100%|████████████████████████████████████████████████████████████████████████████████| 584/584 [00:18<00:00, 32.34it/s]\n"
     ]
    },
    {
     "name": "stdout",
     "output_type": "stream",
     "text": [
      "OSULeaf\n",
      "true:  [ 907 1680]\n",
      "pred:  [ 900 1666]\n",
      "====================================================================================================\n"
     ]
    },
    {
     "name": "stderr",
     "output_type": "stream",
     "text": [
      "100%|██████████████████████████████████████████████████████████████████████████████| 1884/1884 [08:45<00:00,  3.58it/s]\n",
      "100%|██████████████████████████████████████████████████████████████████████████████| 1197/1197 [02:03<00:00,  9.71it/s]\n",
      "100%|████████████████████████████████████████████████████████████████████████████████| 681/681 [00:25<00:00, 26.30it/s]\n",
      "100%|████████████████████████████████████████████████████████████████████████████████| 964/964 [01:06<00:00, 14.49it/s]\n",
      "100%|████████████████████████████████████████████████████████████████████████████████| 227/227 [00:02<00:00, 96.99it/s]\n",
      "100%|████████████████████████████████████████████████████████████████████████████████| 676/676 [00:25<00:00, 26.87it/s]\n",
      "100%|████████████████████████████████████████████████████████████████████████████████| 282/282 [00:03<00:00, 78.34it/s]\n",
      "100%|████████████████████████████████████████████████████████████████████████████████| 515/515 [00:13<00:00, 38.88it/s]\n",
      "100%|███████████████████████████████████████████████████████████████████████████████| 155/155 [00:01<00:00, 117.83it/s]\n",
      "100%|████████████████████████████████████████████████████████████████████████████████| 322/322 [00:04<00:00, 70.67it/s]\n",
      "100%|████████████████████████████████████████████████████████████████████████████████| 353/353 [00:05<00:00, 64.01it/s]\n"
     ]
    },
    {
     "name": "stdout",
     "output_type": "stream",
     "text": [
      "Plane\n",
      "true:  [ 540 1044 1368 1944 2412 3060]\n",
      "pred:  [ 542 1042 1364 1940 2406 3062]\n",
      "====================================================================================================\n"
     ]
    },
    {
     "name": "stderr",
     "output_type": "stream",
     "text": [
      " 12%|█████████                                                                      | 230/1994 [01:11<09:08,  3.22it/s]\n"
     ]
    },
    {
     "ename": "KeyboardInterrupt",
     "evalue": "",
     "output_type": "error",
     "traceback": [
      "\u001b[1;31m---------------------------------------------------------------------------\u001b[0m",
      "\u001b[1;31mKeyboardInterrupt\u001b[0m                         Traceback (most recent call last)",
      "Input \u001b[1;32mIn [7]\u001b[0m, in \u001b[0;36m<cell line: 2>\u001b[1;34m()\u001b[0m\n\u001b[0;32m      8\u001b[0m     \u001b[38;5;28;01mcontinue\u001b[39;00m\n\u001b[0;32m     10\u001b[0m \u001b[38;5;28mcls\u001b[39m \u001b[38;5;241m=\u001b[39m CLaSP(window\u001b[38;5;241m=\u001b[39m\u001b[38;5;241m4\u001b[39m, solver\u001b[38;5;241m=\u001b[39m\u001b[38;5;124m'\u001b[39m\u001b[38;5;124mknn\u001b[39m\u001b[38;5;124m'\u001b[39m) \u001b[38;5;66;03m#wind_size\u001b[39;00m\n\u001b[1;32m---> 11\u001b[0m \u001b[38;5;28;43mcls\u001b[39;49m\u001b[38;5;241;43m.\u001b[39;49m\u001b[43mfit\u001b[49m\u001b[43m(\u001b[49m\u001b[43mtime_series\u001b[49m\u001b[43m[\u001b[49m\u001b[43m:\u001b[49m\u001b[43m:\u001b[49m\u001b[38;5;241;43m2\u001b[39;49m\u001b[43m]\u001b[49m\u001b[43m,\u001b[49m\u001b[43m \u001b[49m\u001b[43mn_segments\u001b[49m\u001b[38;5;241;43m=\u001b[39;49m\u001b[38;5;28;43mlen\u001b[39;49m\u001b[43m(\u001b[49m\u001b[43mtrue_chp\u001b[49m\u001b[43m)\u001b[49m\u001b[38;5;241;43m+\u001b[39;49m\u001b[38;5;241;43m1\u001b[39;49m\u001b[43m)\u001b[49m\n\u001b[0;32m     13\u001b[0m numbers \u001b[38;5;241m=\u001b[39m \u001b[38;5;28mset\u001b[39m()\n\u001b[0;32m     14\u001b[0m \u001b[38;5;28;01mfor\u001b[39;00m elem \u001b[38;5;129;01min\u001b[39;00m \u001b[38;5;28mcls\u001b[39m\u001b[38;5;241m.\u001b[39mstack:\n",
      "File \u001b[1;32m~\\Documents\\GitHub\\Gesture_recognition\\Segmentation_experiments\\CLaSP.py:67\u001b[0m, in \u001b[0;36mCLaSP.fit\u001b[1;34m(self, vec_ts, n_segments)\u001b[0m\n\u001b[0;32m     65\u001b[0m X_dist_cur \u001b[38;5;241m=\u001b[39m \u001b[38;5;28mself\u001b[39m\u001b[38;5;241m.\u001b[39mX_dist[elem[\u001b[38;5;124m'\u001b[39m\u001b[38;5;124mstart\u001b[39m\u001b[38;5;124m'\u001b[39m]:elem[\u001b[38;5;124m'\u001b[39m\u001b[38;5;124mstop\u001b[39m\u001b[38;5;124m'\u001b[39m]]\u001b[38;5;241m.\u001b[39mT[elem[\u001b[38;5;124m'\u001b[39m\u001b[38;5;124mstart\u001b[39m\u001b[38;5;124m'\u001b[39m]:elem[\u001b[38;5;124m'\u001b[39m\u001b[38;5;124mstop\u001b[39m\u001b[38;5;124m'\u001b[39m]]\n\u001b[0;32m     66\u001b[0m \u001b[38;5;66;03m# print('X_dist_cur', X_dist_cur.shape)\u001b[39;00m\n\u001b[1;32m---> 67\u001b[0m clasp_scores_cur \u001b[38;5;241m=\u001b[39m \u001b[38;5;28;43mself\u001b[39;49m\u001b[38;5;241;43m.\u001b[39;49m\u001b[43mclasp_single_run\u001b[49m\u001b[43m(\u001b[49m\u001b[43mX_dist_cur\u001b[49m\u001b[43m)\u001b[49m\n\u001b[0;32m     68\u001b[0m dividing_idx \u001b[38;5;241m=\u001b[39m np\u001b[38;5;241m.\u001b[39margmax(clasp_scores_cur[\u001b[38;5;28mself\u001b[39m\u001b[38;5;241m.\u001b[39mwindow:\u001b[38;5;241m-\u001b[39m\u001b[38;5;28mself\u001b[39m\u001b[38;5;241m.\u001b[39mwindow]) \u001b[38;5;241m+\u001b[39m \u001b[38;5;28mself\u001b[39m\u001b[38;5;241m.\u001b[39mwindow\n\u001b[0;32m     69\u001b[0m dividing_val \u001b[38;5;241m=\u001b[39m clasp_scores_cur[dividing_idx]\n",
      "File \u001b[1;32m~\\Documents\\GitHub\\Gesture_recognition\\Segmentation_experiments\\CLaSP.py:173\u001b[0m, in \u001b[0;36mCLaSP.clasp_single_run\u001b[1;34m(self, X_dist)\u001b[0m\n\u001b[0;32m    171\u001b[0m y[\u001b[38;5;241m0\u001b[39m:i] \u001b[38;5;241m=\u001b[39m \u001b[38;5;241m0\u001b[39m\n\u001b[0;32m    172\u001b[0m \u001b[38;5;28;01mif\u001b[39;00m \u001b[38;5;28mself\u001b[39m\u001b[38;5;241m.\u001b[39msolver \u001b[38;5;241m==\u001b[39m \u001b[38;5;124m'\u001b[39m\u001b[38;5;124mknn\u001b[39m\u001b[38;5;124m'\u001b[39m:\n\u001b[1;32m--> 173\u001b[0m     scores \u001b[38;5;241m=\u001b[39m \u001b[38;5;28;43mself\u001b[39;49m\u001b[38;5;241;43m.\u001b[39;49m\u001b[43mclasp_cross_val\u001b[49m\u001b[43m(\u001b[49m\u001b[43mX_dist\u001b[49m\u001b[43m,\u001b[49m\u001b[43m \u001b[49m\u001b[43my\u001b[49m\u001b[43m,\u001b[49m\u001b[43m \u001b[49m\u001b[43mn_neighbors\u001b[49m\u001b[38;5;241;43m=\u001b[39;49m\u001b[38;5;241;43m3\u001b[39;49m\u001b[43m,\u001b[49m\u001b[43m \u001b[49m\u001b[43mn_splits\u001b[49m\u001b[38;5;241;43m=\u001b[39;49m\u001b[38;5;241;43m3\u001b[39;49m\u001b[43m,\u001b[49m\u001b[43m \u001b[49m\u001b[43mshuffle\u001b[49m\u001b[38;5;241;43m=\u001b[39;49m\u001b[38;5;28;43;01mTrue\u001b[39;49;00m\u001b[43m)\u001b[49m\n\u001b[0;32m    174\u001b[0m \u001b[38;5;28;01melif\u001b[39;00m \u001b[38;5;28mself\u001b[39m\u001b[38;5;241m.\u001b[39msolver \u001b[38;5;241m==\u001b[39m \u001b[38;5;124m'\u001b[39m\u001b[38;5;124msvd\u001b[39m\u001b[38;5;124m'\u001b[39m:\n\u001b[0;32m    175\u001b[0m     scores \u001b[38;5;241m=\u001b[39m \u001b[38;5;28mself\u001b[39m\u001b[38;5;241m.\u001b[39mclasp_svd(X_dist, i)\n",
      "File \u001b[1;32m~\\Documents\\GitHub\\Gesture_recognition\\Segmentation_experiments\\CLaSP.py:138\u001b[0m, in \u001b[0;36mCLaSP.clasp_cross_val\u001b[1;34m(self, X_dist, y, n_neighbors, n_splits, shuffle)\u001b[0m\n\u001b[0;32m    136\u001b[0m y_train \u001b[38;5;241m=\u001b[39m y[train_index]\n\u001b[0;32m    137\u001b[0m \u001b[38;5;66;03m# selecting test dist matrix\u001b[39;00m\n\u001b[1;32m--> 138\u001b[0m X_test_double \u001b[38;5;241m=\u001b[39m \u001b[43mX_dist\u001b[49m\u001b[43m[\u001b[49m\u001b[43mtrain_index\u001b[49m\u001b[43m]\u001b[49m\u001b[38;5;241m.\u001b[39mT[test_index]\n\u001b[0;32m    139\u001b[0m y_test \u001b[38;5;241m=\u001b[39m y[test_index]\n\u001b[0;32m    140\u001b[0m \u001b[38;5;66;03m# fitting model\u001b[39;00m\n",
      "\u001b[1;31mKeyboardInterrupt\u001b[0m: "
     ]
    }
   ],
   "source": [
    "res_knn = {}\n",
    "for i in range(tssb.shape[0]):\n",
    "    name = tssb.iloc[i,::]['dataset']\n",
    "    wind_size = tssb.iloc[i,::]['window_size']\n",
    "    true_chp = tssb.iloc[i,::]['change_points']      \n",
    "    time_series = tssb.iloc[i,::]['time_series']  \n",
    "    if time_series.shape[0] > 4500:\n",
    "        continue\n",
    "    \n",
    "    cls = CLaSP(window=4, solver='knn') #wind_size\n",
    "    cls.fit(time_series[::2], n_segments=len(true_chp)+1)\n",
    "    \n",
    "    numbers = set()\n",
    "    for elem in cls.stack:\n",
    "        numbers.add(elem['start'])\n",
    "        numbers.add(elem['stop'])    \n",
    "    res_knn[name] = np.array(sorted(list(numbers))[1:-1])*2\n",
    "    print(name)\n",
    "    print('true: ',true_chp)\n",
    "    print('pred: ',np.array(sorted(list(numbers))[1:-1])*2)\n",
    "    print('='*100)"
   ]
  },
  {
   "cell_type": "code",
   "execution_count": null,
   "id": "22431688",
   "metadata": {},
   "outputs": [],
   "source": [
    "import pickle\n",
    "with open('knn_scores_powers2_windows_normalized.pickle', 'wb') as handle:\n",
    "    pickle.dump(res_knn, handle, protocol=pickle.HIGHEST_PROTOCOL)"
   ]
  },
  {
   "cell_type": "code",
   "execution_count": null,
   "id": "179af810",
   "metadata": {
    "scrolled": false
   },
   "outputs": [],
   "source": [
    "res_svd = {}\n",
    "for i in range(tssb.shape[0]):\n",
    "    name = tssb.iloc[i,::]['dataset']\n",
    "    wind_size = tssb.iloc[i,::]['window_size']\n",
    "    true_chp = tssb.iloc[i,::]['change_points']      \n",
    "    time_series = tssb.iloc[i,::]['time_series']  \n",
    "    if time_series.shape[0] > 4500:\n",
    "        continue\n",
    "    \n",
    "    cls = CLaSP(window=wind_size, solver='svd')\n",
    "    cls.fit(time_series[::2], n_segments=len(true_chp)+1)\n",
    "    \n",
    "    numbers = set()\n",
    "    for elem in cls.stack:\n",
    "        numbers.add(elem['start'])\n",
    "        numbers.add(elem['stop'])    \n",
    "    res_svd[name] = np.array(sorted(list(numbers))[1:-1])*2\n",
    "    print(name)\n",
    "    print(true_chp)\n",
    "    print(np.array(sorted(list(numbers))[1:-1])*2)\n",
    "    print('='*100)"
   ]
  },
  {
   "cell_type": "code",
   "execution_count": null,
   "id": "c4392e6e",
   "metadata": {},
   "outputs": [],
   "source": [
    "# import pickle\n",
    "# with open('svd_scores.pickle', 'wb') as handle:\n",
    "#     pickle.dump(res_svd, handle, protocol=pickle.HIGHEST_PROTOCOL)"
   ]
  },
  {
   "cell_type": "code",
   "execution_count": null,
   "id": "bbfbcd7e",
   "metadata": {},
   "outputs": [],
   "source": [
    "import pickle\n",
    "with open('knn_scores.pickle', 'rb') as handle:\n",
    "    res_svd = pickle.load(handle)"
   ]
  },
  {
   "cell_type": "code",
   "execution_count": 8,
   "id": "c5bcfb58",
   "metadata": {},
   "outputs": [
    {
     "name": "stdout",
     "output_type": "stream",
     "text": [
      "DistalPhalanxTW\n",
      "True: [ 580 2220]\n",
      "Pred: [250 560]\n",
      "====================\n"
     ]
    }
   ],
   "source": [
    "for key in res_knn.keys():\n",
    "    true_chp = tssb.loc[tssb['dataset'] == key]['change_points'].values[0]\n",
    "    pred_chp = res_knn[key]\n",
    "    for i in range(len(pred_chp)):\n",
    "        diff = np.abs(pred_chp[i] - true_chp[i])\n",
    "        if abs(diff) > 500:\n",
    "            print(key)\n",
    "            print('True:',true_chp)\n",
    "            print('Pred:',pred_chp)  \n",
    "            print('='*20)"
   ]
  },
  {
   "cell_type": "code",
   "execution_count": null,
   "id": "14717524",
   "metadata": {},
   "outputs": [],
   "source": [
    "res_knn['SonyAIBORobotSurface1']"
   ]
  },
  {
   "cell_type": "code",
   "execution_count": null,
   "id": "3447672b",
   "metadata": {},
   "outputs": [],
   "source": [
    "tssb.loc[tssb['dataset'] == 'SonyAIBORobotSurface1']['change_points'].values[0]"
   ]
  },
  {
   "cell_type": "code",
   "execution_count": null,
   "id": "8c0c1558",
   "metadata": {},
   "outputs": [],
   "source": [
    "diff_list_svd = []\n",
    "for key in res_svd.keys():\n",
    "    true_chp = tssb.loc[tssb['dataset'] == key]['change_points'].values[0]\n",
    "    pred_chp = res_svd[key]\n",
    "    for i in range(len(pred_chp)):\n",
    "        diff = np.abs(pred_chp[i] - true_chp[i])\n",
    "        if abs(diff) < 1500:\n",
    "            diff_list_svd.append(diff)"
   ]
  },
  {
   "cell_type": "code",
   "execution_count": 12,
   "id": "1a00e402",
   "metadata": {},
   "outputs": [],
   "source": [
    "diff_list_knn = []\n",
    "for key in res_knn.keys():\n",
    "    true_chp = tssb.loc[tssb['dataset'] == key]['change_points'].values[0]\n",
    "    pred_chp = res_knn[key]\n",
    "    for i in range(len(pred_chp)):\n",
    "        diff = np.abs(pred_chp[i] - true_chp[i])\n",
    "        if abs(diff) < 1500:\n",
    "            diff_list_knn.append(diff)"
   ]
  },
  {
   "cell_type": "code",
   "execution_count": 13,
   "id": "1ecb40b1",
   "metadata": {},
   "outputs": [
    {
     "data": {
      "image/png": "[encoded data removed]",
      "text/plain": [
       "<Figure size 640x480 with 1 Axes>"
      ]
     },
     "metadata": {},
     "output_type": "display_data"
    }
   ],
   "source": [
    "# plt.hist(diff_list_svd, bins=20, alpha=0.5)\n",
    "plt.hist(diff_list_knn, bins=20, alpha=0.5)\n",
    "plt.show()"
   ]
  },
  {
   "cell_type": "code",
   "execution_count": 14,
   "id": "25896960",
   "metadata": {},
   "outputs": [
    {
     "data": {
      "image/png": "[encoded data removed]",
      "text/plain": [
       "<Figure size 600x400 with 2 Axes>"
      ]
     },
     "metadata": {},
     "output_type": "display_data"
    }
   ],
   "source": [
    "fig, axs = plt.subplots(1,2, figsize=(6,4), sharey=True)\n",
    "# axs[0].boxplot(diff_list_svd)\n",
    "axs[1].boxplot(diff_list_knn)\n",
    "\n",
    "axs[0].set_title('SVD')\n",
    "axs[1].set_title('KNN')\n",
    "plt.show()"
   ]
  },
  {
   "cell_type": "code",
   "execution_count": null,
   "id": "ce5aad62",
   "metadata": {},
   "outputs": [],
   "source": [
    "line_ds = tssb.loc[tssb['dataset'] == 'InsectWingbeatSound']\n",
    "line_ts = line_ds['time_series'].values[0]\n",
    "line_chp = line_ds['change_points'].values[0]\n",
    "line_chp"
   ]
  },
  {
   "cell_type": "code",
   "execution_count": null,
   "id": "cf64bebb",
   "metadata": {},
   "outputs": [],
   "source": [
    "plt.figure(figsize=(8,3))\n",
    "cur_idx = 0\n",
    "for i in range(len(line_chp)):\n",
    "    plt.plot(np.arange(cur_idx,line_chp[i]), line_ts[cur_idx:line_chp[i]])\n",
    "    cur_idx = line_chp[i]\n",
    "plt.plot(np.arange(cur_idx,len(line_ts)-1), line_ts[cur_idx:len(line_ts)-1])\n",
    "plt.show()"
   ]
  },
  {
   "cell_type": "code",
   "execution_count": null,
   "id": "0a757c71",
   "metadata": {},
   "outputs": [],
   "source": [
    "from CLaSP import CLaSP"
   ]
  },
  {
   "cell_type": "code",
   "execution_count": null,
   "id": "81d0c3d9",
   "metadata": {},
   "outputs": [],
   "source": [
    "cls = CLaSP(window=10, solver='knn')"
   ]
  },
  {
   "cell_type": "code",
   "execution_count": null,
   "id": "fd8986ea",
   "metadata": {},
   "outputs": [],
   "source": [
    "cls.fit(line_ts, n_segments=4)"
   ]
  },
  {
   "cell_type": "code",
   "execution_count": null,
   "id": "29a3a659",
   "metadata": {},
   "outputs": [],
   "source": [
    "cls.stack"
   ]
  },
  {
   "cell_type": "code",
   "execution_count": null,
   "id": "9cfdb165",
   "metadata": {},
   "outputs": [],
   "source": [
    "numbers = set()\n",
    "for elem in cls.stack:\n",
    "    numbers.add(elem['start'])\n",
    "    numbers.add(elem['stop'])    "
   ]
  },
  {
   "cell_type": "code",
   "execution_count": null,
   "id": "77a7d537",
   "metadata": {},
   "outputs": [],
   "source": [
    "numbers"
   ]
  },
  {
   "cell_type": "code",
   "execution_count": null,
   "id": "8338ab7f",
   "metadata": {},
   "outputs": [],
   "source": [
    "plt.imshow(cls.X_dist, cmap='seismic')\n",
    "plt.show()"
   ]
  }
 ],
 "metadata": {
  "kernelspec": {
   "display_name": "Python 3",
   "language": "python",
   "name": "python3"
  },
  "language_info": {
   "codemirror_mode": {
    "name": "ipython",
    "version": 3
   },
   "file_extension": ".py",
   "mimetype": "text/x-python",
   "name": "python",
   "nbconvert_exporter": "python",
   "pygments_lexer": "ipython3",
   "version": "3.8.5"
  }
 },
 "nbformat": 4,
 "nbformat_minor": 5
}

{
 "cells": [
  {
   "cell_type": "code",
   "execution_count": null,
   "id": "4c271803",
   "metadata": {},
   "outputs": [],
   "source": [
    "import numpy as np\n",
    "import matplotlib.pyplot as plt"
   ]
  },
  {
   "cell_type": "code",
   "execution_count": null,
   "id": "ab9ad1aa",
   "metadata": {},
   "outputs": [],
   "source": [
    "from tssb.utils import load_time_series_segmentation_datasets\n",
    "from tssb.evaluation import covering"
   ]
  },
  {
   "cell_type": "code",
   "execution_count": null,
   "id": "94086fc2",
   "metadata": {},
   "outputs": [],
   "source": [
    "# loading datasets\n",
    "tssb = load_time_series_segmentation_datasets(names=[\"ArrowHead\", \"InsectWingbeatSound\", \"TwoLeadECG\"])"
   ]
  },
  {
   "cell_type": "code",
   "execution_count": null,
   "id": "f03499bd",
   "metadata": {},
   "outputs": [],
   "source": [
    "tssb"
   ]
  },
  {
   "cell_type": "code",
   "execution_count": null,
   "id": "783f25d8",
   "metadata": {},
   "outputs": [],
   "source": [
    "line_ds = tssb.loc[tssb['dataset'] == 'InsectWingbeatSound']\n",
    "line_ts = line_ds['time_series'].values[0]\n",
    "line_chp = line_ds['change_points'].values[0]\n",
    "line_chp"
   ]
  },
  {
   "cell_type": "code",
   "execution_count": null,
   "id": "194b8dc4",
   "metadata": {},
   "outputs": [],
   "source": [
    "plt.figure(figsize=(8,3))\n",
    "cur_idx = 0\n",
    "for i in range(len(line_chp)):\n",
    "    plt.plot(np.arange(cur_idx,line_chp[i]), line_ts[cur_idx:line_chp[i]])\n",
    "    cur_idx = line_chp[i]\n",
    "plt.plot(np.arange(cur_idx,len(line_ts)-1), line_ts[cur_idx:len(line_ts)-1])\n",
    "plt.show()"
   ]
  },
  {
   "cell_type": "code",
   "execution_count": null,
   "id": "e73ac99d",
   "metadata": {},
   "outputs": [],
   "source": [
    "from CLaSP import CLaSP"
   ]
  },
  {
   "cell_type": "code",
   "execution_count": null,
   "id": "93433ef0",
   "metadata": {},
   "outputs": [],
   "source": [
    "cls = CLaSP(window=10, solver='knn')"
   ]
  },
  {
   "cell_type": "code",
   "execution_count": null,
   "id": "9d4ad90a",
   "metadata": {},
   "outputs": [],
   "source": [
    "cls.fit(line_ts, n_segments=4)"
   ]
  },
  {
   "cell_type": "code",
   "execution_count": null,
   "id": "4fa5f901",
   "metadata": {},
   "outputs": [],
   "source": [
    "cls.stack"
   ]
  },
  {
   "cell_type": "code",
   "execution_count": null,
   "id": "77221123",
   "metadata": {},
   "outputs": [],
   "source": [
    "plt.imshow(cls.X_dist, cmap='seismic')\n",
    "plt.show()"
   ]
  }
 ],
 "metadata": {
  "kernelspec": {
   "display_name": "Python 3",
   "language": "python",
   "name": "python3"
  },
  "language_info": {
   "codemirror_mode": {
    "name": "ipython",
    "version": 3
   },
   "file_extension": ".py",
   "mimetype": "text/x-python",
   "name": "python",
   "nbconvert_exporter": "python",
   "pygments_lexer": "ipython3",
   "version": "3.8.5"
  }
 },
 "nbformat": 4,
 "nbformat_minor": 5
}
